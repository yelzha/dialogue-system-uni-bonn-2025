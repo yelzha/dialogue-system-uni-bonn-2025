{
 "cells": [
  {
   "cell_type": "code",
   "execution_count": 1,
   "id": "2753bb84",
   "metadata": {},
   "outputs": [
    {
     "name": "stderr",
     "output_type": "stream",
     "text": [
      "C:\\Users\\yelzha\\AppData\\Local\\Programs\\Python\\Python311\\Lib\\site-packages\\tqdm\\auto.py:21: TqdmWarning: IProgress not found. Please update jupyter and ipywidgets. See https://ipywidgets.readthedocs.io/en/stable/user_install.html\n",
      "  from .autonotebook import tqdm as notebook_tqdm\n"
     ]
    },
    {
     "name": "stdout",
     "output_type": "stream",
     "text": [
      "WARNING:tensorflow:From C:\\Users\\yelzha\\AppData\\Local\\Programs\\Python\\Python311\\Lib\\site-packages\\keras\\src\\losses.py:2976: The name tf.losses.sparse_softmax_cross_entropy is deprecated. Please use tf.compat.v1.losses.sparse_softmax_cross_entropy instead.\n",
      "\n"
     ]
    },
    {
     "name": "stderr",
     "output_type": "stream",
     "text": [
      "Loading checkpoint shards: 100%|█████████████████████████████████████████████████████████| 2/2 [00:00<00:00,  3.08it/s]\n",
      "Using a slow image processor as `use_fast` is unset and a slow processor was saved with this model. `use_fast=True` will be the default behavior in v4.52, even if the model was saved with a slow processor. This will result in minor differences in outputs. You'll still be able to use a slow processor with `use_fast=False`.\n",
      "You have video processor config saved in `preprocessor.json` file which is deprecated. Video processor configs should be saved in their own `video_preprocessor.json` file. You can rename the file or load and save the processor back which renames it automatically. Loading from `preprocessor.json` will be removed in v5.0.\n"
     ]
    }
   ],
   "source": [
    "# Evaluation Script for Qwen2.5-VL-7B-Instruct on CORD-v2 Test Set using qwen_vl_utils\n",
    "\n",
    "import torch\n",
    "import json\n",
    "from PIL import Image\n",
    "from datasets import load_dataset\n",
    "from transformers import AutoProcessor\n",
    "from qwen_vl_utils import process_vision_info\n",
    "from tqdm import tqdm\n",
    "from transformers import Qwen2_5_VLForConditionalGeneration\n",
    "\n",
    "# Load model and processor\n",
    "model_id = \"Qwen/Qwen2.5-VL-3B-Instruct\"\n",
    "model = Qwen2_5_VLForConditionalGeneration.from_pretrained(\n",
    "    model_id, torch_dtype=\"auto\", device_map=\"auto\"\n",
    ")\n",
    "processor = AutoProcessor.from_pretrained(model_id)\n",
    "\n",
    "# Load dataset\n",
    "cord_dataset = load_dataset(\"naver-clova-ix/cord-v2\")\n",
    "test_set = cord_dataset[\"test\"]\n",
    "\n",
    "def clean_output(text):\n",
    "    text = text.strip()\n",
    "\n",
    "    # Convert escaped characters to real ones\n",
    "    try:\n",
    "        text = bytes(text, \"utf-8\").decode(\"unicode_escape\")\n",
    "    except Exception:\n",
    "        pass  # fallback in case decode fails\n",
    "\n",
    "    # Remove code block markers if present\n",
    "    if text.startswith(\"```\"):\n",
    "        parts = text.split(\"\\n\", 1)\n",
    "        if len(parts) == 2:\n",
    "            text = parts[1]  # remove the first line like ```json\n",
    "        if text.endswith(\"```\"):\n",
    "            text = text[:-3]  # remove the closing ```\n",
    "\n",
    "    return text.strip()\n",
    "\n",
    "def extract_fields(record_raw):\n",
    "    record_json = json.loads(record_raw)\n",
    "    json_data = record_json['gt_parse']\n",
    "    fields = {}\n",
    "    for key in [\"menu\", \"sub_total\", \"total\"]:\n",
    "        if key in json_data:\n",
    "            fields[key] = json_data[key]\n",
    "    return fields"
   ]
  },
  {
   "cell_type": "code",
   "execution_count": null,
   "id": "c7daf7f0",
   "metadata": {},
   "outputs": [
    {
     "name": "stdout",
     "output_type": "stream",
     "text": [
      "Starting evaluation...\n"
     ]
    },
    {
     "name": "stderr",
     "output_type": "stream",
     "text": [
      "\r",
      "Evaluating:   0%|                                                                                | 0/1 [00:00<?, ?it/s]"
     ]
    }
   ],
   "source": [
    "predictions, ground_truths = [], []\n",
    "\n",
    "instruction = (\n",
    "    \"Extract and return all structured fields from this receipt image in the following JSON format. \"\n",
    "    \"Make sure to follow the correct hierarchical structure and include all known keys from the dataset:\\n\"\n",
    "    \"{\\n\"\n",
    "    \"  \\\"menu\\\": [\\n\"\n",
    "    \"    {\\n\"\n",
    "    \"      \\\"nm\\\": string,\\n\"\n",
    "    \"      \\\"num\\\": string,\\n\"\n",
    "    \"      \\\"cnt\\\": string,\\n\"\n",
    "    \"      \\\"price\\\": string,\\n\"\n",
    "    \"      \\\"itemsubtotal\\\": string,\\n\"\n",
    "    \"      \\\"sub_nm\\\": optional string,\\n\"\n",
    "    \"      \\\"sub_cnt\\\": optional string,\\n\"\n",
    "    \"      \\\"sub_price\\\": optional string\\n\"\n",
    "    \"    }\\n\"\n",
    "    \"  ],\\n\"\n",
    "    \"  \\\"sub_total\\\": {\\n\"\n",
    "    \"    \\\"subtotal_price\\\": string,\\n\"\n",
    "    \"    \\\"discount_price\\\": string,\\n\"\n",
    "    \"    \\\"tax_price\\\": string,\\n\"\n",
    "    \"    \\\"service_price\\\": string,\\n\"\n",
    "    \"    \\\"etc\\\": string\\n\"\n",
    "    \"  },\\n\"\n",
    "    \"  \\\"total\\\": {\\n\"\n",
    "    \"    \\\"total_price\\\": string,\\n\"\n",
    "    \"    \\\"cashprice\\\": string,\\n\"\n",
    "    \"    \\\"changeprice\\\": string,\\n\"\n",
    "    \"    \\\"creditcardprice\\\": string,\\n\"\n",
    "    \"    \\\"emoneyprice\\\": string,\\n\"\n",
    "    \"    \\\"menutype_cnt\\\": string,\\n\"\n",
    "    \"    \\\"menuqty_cnt\\\": string,\\n\"\n",
    "    \"    \\\"total_etc\\\": string\\n\"\n",
    "    \"  }\\n\"\n",
    "    \"}\\n\"\n",
    "    \"Output only the JSON. Do not include explanations or other text.\"\n",
    ")\n",
    "\n",
    "print(\"Starting evaluation...\")\n",
    "\n",
    "for sample in tqdm([test_set[i] for i in range(1)], desc=\"Evaluating\"):\n",
    "    image = sample[\"image\"]\n",
    "    label_json = sample[\"ground_truth\"]\n",
    "\n",
    "    messages = [\n",
    "        {\n",
    "            \"role\": \"user\",\n",
    "            \"content\": [\n",
    "                {\"type\": \"image\", \"image\": image},\n",
    "                {\"type\": \"text\", \"text\": instruction}\n",
    "            ]\n",
    "        }\n",
    "    ]\n",
    "\n",
    "    text_prompt = processor.apply_chat_template(messages, tokenize=False, add_generation_prompt=True)\n",
    "    image_inputs, video_inputs = process_vision_info(messages)\n",
    "\n",
    "    inputs = processor(\n",
    "        text=[text_prompt],\n",
    "        images=image_inputs,\n",
    "        videos=video_inputs,\n",
    "        padding=True,\n",
    "        return_tensors=\"pt\"\n",
    "    ).to(model.device)\n",
    "\n",
    "    with torch.no_grad():\n",
    "        generated_ids = model.generate(**inputs, max_new_tokens=1024)\n",
    "\n",
    "    generated_ids_trimmed = [\n",
    "        out_ids[len(in_ids):] for in_ids, out_ids in zip(inputs.input_ids, generated_ids)\n",
    "    ]\n",
    "    pred_result = processor.batch_decode(\n",
    "        generated_ids_trimmed, skip_special_tokens=True, clean_up_tokenization_spaces=False\n",
    "    )[0]\n",
    "\n",
    "    pred_result = clean_output(pred_result)\n",
    "\n",
    "    try:\n",
    "        pred_fields = extract_fields(json.dumps({\"gt_parse\": json.loads(pred_result)}))\n",
    "    except:\n",
    "        pred_fields = {}\n",
    "\n",
    "    true_fields = extract_fields(label_json)\n",
    "\n",
    "    for field in true_fields:\n",
    "        predictions.append(pred_fields.get(field, \"\"))\n",
    "        ground_truths.append(true_fields[field])\n",
    "\n",
    "# Basic evaluation using exact match comparison\n",
    "correct = sum([p == t for p, t in zip(predictions, ground_truths)])\n",
    "total = len(predictions)\n",
    "accuracy = correct / total if total else 0\n",
    "\n",
    "print(f\"Evaluation Results:\")\n",
    "print(f\"Total Samples Evaluated: {total}\")\n",
    "print(f\"Exact Match Accuracy: {accuracy:.4f}\")"
   ]
  },
  {
   "cell_type": "code",
   "execution_count": null,
   "id": "f3798f3b",
   "metadata": {},
   "outputs": [],
   "source": []
  }
 ],
 "metadata": {
  "kernelspec": {
   "display_name": "Python 3.11",
   "language": "python",
   "name": "python3.11"
  },
  "language_info": {
   "codemirror_mode": {
    "name": "ipython",
    "version": 3
   },
   "file_extension": ".py",
   "mimetype": "text/x-python",
   "name": "python",
   "nbconvert_exporter": "python",
   "pygments_lexer": "ipython3",
   "version": "3.11.6"
  }
 },
 "nbformat": 4,
 "nbformat_minor": 5
}
