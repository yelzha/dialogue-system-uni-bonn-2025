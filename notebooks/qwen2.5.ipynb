{
 "cells": [
  {
   "cell_type": "code",
   "execution_count": 1,
   "id": "a3c282cc",
   "metadata": {},
   "outputs": [
    {
     "name": "stderr",
     "output_type": "stream",
     "text": [
      "C:\\Users\\yelzha\\AppData\\Local\\Programs\\Python\\Python311\\Lib\\site-packages\\tqdm\\auto.py:21: TqdmWarning: IProgress not found. Please update jupyter and ipywidgets. See https://ipywidgets.readthedocs.io/en/stable/user_install.html\n",
      "  from .autonotebook import tqdm as notebook_tqdm\n"
     ]
    },
    {
     "name": "stdout",
     "output_type": "stream",
     "text": [
      "WARNING:tensorflow:From C:\\Users\\yelzha\\AppData\\Local\\Programs\\Python\\Python311\\Lib\\site-packages\\keras\\src\\losses.py:2976: The name tf.losses.sparse_softmax_cross_entropy is deprecated. Please use tf.compat.v1.losses.sparse_softmax_cross_entropy instead.\n",
      "\n"
     ]
    }
   ],
   "source": [
    "# Evaluation Script for Qwen2.5-VL-3B-Instruct on CORD-v2 Test Set\n",
    "\n",
    "import re\n",
    "import torch\n",
    "import json\n",
    "from PIL import Image\n",
    "from datasets import load_dataset\n",
    "from transformers import pipeline\n",
    "from tqdm import tqdm\n",
    "from sklearn.metrics import precision_score, recall_score, f1_score"
   ]
  },
  {
   "cell_type": "code",
   "execution_count": 2,
   "id": "6cbb6f00",
   "metadata": {},
   "outputs": [
    {
     "name": "stderr",
     "output_type": "stream",
     "text": [
      "Loading checkpoint shards: 100%|█████████████████████████████████████████████████████████| 2/2 [00:26<00:00, 13.16s/it]\n",
      "Using a slow image processor as `use_fast` is unset and a slow processor was saved with this model. `use_fast=True` will be the default behavior in v4.52, even if the model was saved with a slow processor. This will result in minor differences in outputs. You'll still be able to use a slow processor with `use_fast=False`.\n",
      "You have video processor config saved in `preprocessor.json` file which is deprecated. Video processor configs should be saved in their own `video_preprocessor.json` file. You can rename the file or load and save the processor back which renames it automatically. Loading from `preprocessor.json` will be removed in v5.0.\n",
      "Device set to use cpu\n"
     ]
    }
   ],
   "source": [
    "pipe = pipeline(\n",
    "    \"image-text-to-text\",\n",
    "    model=\"Qwen/Qwen2.5-VL-3B-Instruct\",\n",
    "    max_new_tokens=2048\n",
    ")\n",
    "\n",
    "device = \"cuda\" if torch.cuda.is_available() else \"cpu\"\n",
    "\n",
    "# Load CORD-v2 dataset\n",
    "cord_dataset = load_dataset(\"naver-clova-ix/cord-v2\")\n",
    "test_set = cord_dataset[\"test\"]"
   ]
  },
  {
   "cell_type": "code",
   "execution_count": 3,
   "id": "8a01819a",
   "metadata": {},
   "outputs": [
    {
     "data": {
      "text/plain": [
       "{'menu': {'nm': '-TICKET CP',\n",
       "  'num': '901016',\n",
       "  'cnt': '2',\n",
       "  'price': '60.000',\n",
       "  'itemsubtotal': '60.000'},\n",
       " 'sub_total': {'subtotal_price': '60.000',\n",
       "  'discount_price': '-60.000',\n",
       "  'tax_price': '5.455'},\n",
       " 'total': {'total_price': '60.000',\n",
       "  'creditcardprice': '60.000',\n",
       "  'menuqty_cnt': '2.00'}}"
      ]
     },
     "execution_count": 3,
     "metadata": {},
     "output_type": "execute_result"
    }
   ],
   "source": [
    "import json\n",
    "\n",
    "\n",
    "record_raw = test_set['ground_truth'][0]\n",
    "record_json = json.loads(record_raw)\n",
    "record_json['gt_parse']"
   ]
  },
  {
   "cell_type": "code",
   "execution_count": 4,
   "id": "ca8bb1b7",
   "metadata": {
    "scrolled": false
   },
   "outputs": [
    {
     "name": "stderr",
     "output_type": "stream",
     "text": [
      "Evaluating:   0%|                                                                              | 0/100 [03:47<?, ?it/s]\n"
     ]
    },
    {
     "ename": "NameError",
     "evalue": "name 'pred_result' is not defined",
     "output_type": "error",
     "traceback": [
      "\u001b[1;31m---------------------------------------------------------------------------\u001b[0m",
      "\u001b[1;31mNameError\u001b[0m                                 Traceback (most recent call last)",
      "Cell \u001b[1;32mIn[4], line 60\u001b[0m\n\u001b[0;32m     47\u001b[0m messages \u001b[38;5;241m=\u001b[39m [\n\u001b[0;32m     48\u001b[0m     {\n\u001b[0;32m     49\u001b[0m         \u001b[38;5;124m\"\u001b[39m\u001b[38;5;124mrole\u001b[39m\u001b[38;5;124m\"\u001b[39m: \u001b[38;5;124m\"\u001b[39m\u001b[38;5;124muser\u001b[39m\u001b[38;5;124m\"\u001b[39m,\n\u001b[1;32m   (...)\u001b[0m\n\u001b[0;32m     54\u001b[0m     },\n\u001b[0;32m     55\u001b[0m ]\n\u001b[0;32m     57\u001b[0m result \u001b[38;5;241m=\u001b[39m pipe(messages, max_new_tokens\u001b[38;5;241m=\u001b[39m\u001b[38;5;241m1024\u001b[39m)\n\u001b[1;32m---> 60\u001b[0m pred_fields \u001b[38;5;241m=\u001b[39m extract_fields(\u001b[43mpred_result\u001b[49m)\n\u001b[0;32m     61\u001b[0m true_fields \u001b[38;5;241m=\u001b[39m extract_fields(label_json)\n\u001b[0;32m     63\u001b[0m \u001b[38;5;28;01mfor\u001b[39;00m field \u001b[38;5;129;01min\u001b[39;00m true_fields:\n",
      "\u001b[1;31mNameError\u001b[0m: name 'pred_result' is not defined"
     ]
    }
   ],
   "source": [
    "def clean_output(text):\n",
    "    return text.strip()\n",
    "\n",
    "def extract_fields(record_raw):\n",
    "    record_json = json.loads(record_raw)\n",
    "    json_data = record_json['gt_parse']\n",
    "    fields = {}\n",
    "    for key in [\"menu\", \"sub_total\", \"total\"]:\n",
    "        if key in json_data:\n",
    "            fields[key] = json_data[key]\n",
    "    return fields\n",
    "\n",
    "predictions, ground_truths = [], []\n",
    "\n",
    "instruction = (\n",
    "    \"Extract and return all structured fields from this receipt image in the following JSON format. \"\n",
    "    \"Make sure to follow the correct hierarchical structure and include all known keys from the dataset:\\n\"\n",
    "    \"{\\n\"\n",
    "    \"  \\\"menu\\\": {\\n\"\n",
    "    \"    \\\"nm\\\": string,\\n\"\n",
    "    \"    \\\"num\\\": string,\\n\"\n",
    "    \"    \\\"cnt\\\": string,\\n\"\n",
    "    \"    \\\"price\\\": string,\\n\"\n",
    "    \"    \\\"itemsubtotal\\\": string,\\n\"\n",
    "    \"    \\\"sub_nm\\\": optional string,\\n\"\n",
    "    \"    \\\"sub_cnt\\\": optional string,\\n\"\n",
    "    \"    \\\"sub_price\\\": optional string\\n\"\n",
    "    \"  },\\n\"\n",
    "    \"  \\\"sub_total\\\": {\\n\"\n",
    "    \"    \\\"subtotal_price\\\": string,\\n\"\n",
    "    \"    \\\"discount_price\\\": string,\\n\"\n",
    "    \"    \\\"tax_price\\\": string\\n\"\n",
    "    \"  },\\n\"\n",
    "    \"  \\\"total\\\": {\\n\"\n",
    "    \"    \\\"total_price\\\": string,\\n\"\n",
    "    \"    \\\"creditcardprice\\\": string,\\n\"\n",
    "    \"    \\\"menuqty_cnt\\\": string\\n\"\n",
    "    \"  }\\n\"\n",
    "    \"}\\n\"\n",
    "    \"Output only the JSON. Do not include explanations or other text.\"\n",
    ")\n",
    "\n",
    "for sample in tqdm(test_set, desc=\"Evaluating\"):\n",
    "    image = sample[\"image\"]\n",
    "    label_json = sample[\"ground_truth\"]\n",
    "    \n",
    "    messages = [\n",
    "        {\n",
    "            \"role\": \"user\",\n",
    "            \"content\": [\n",
    "                {\"type\": \"image\", \"image\": image},\n",
    "                {\"type\": \"text\", \"text\": instruction}\n",
    "            ]\n",
    "        },\n",
    "    ]\n",
    "\n",
    "    result = pipe(messages, max_new_tokens=1024)\n",
    "    \n",
    "\n",
    "    pred_fields = extract_fields(pred_result)\n",
    "    true_fields = extract_fields(label_json)\n",
    "\n",
    "    for field in true_fields:\n",
    "        predictions.append(pred_fields.get(field, \"\"))\n",
    "        ground_truths.append(true_fields[field])\n",
    "\n",
    "# Basic evaluation using exact match comparison\n",
    "correct = sum([p == t for p, t in zip(predictions, ground_truths)])\n",
    "total = len(predictions)\n",
    "accuracy = correct / total if total else 0\n",
    "\n",
    "print(f\"Evaluation Results:\")\n",
    "print(f\"Total Samples Evaluated: {total}\")\n",
    "print(f\"Exact Match Accuracy: {accuracy:.4f}\")\n"
   ]
  },
  {
   "cell_type": "code",
   "execution_count": 1,
   "id": "2753bb84",
   "metadata": {},
   "outputs": [
    {
     "name": "stderr",
     "output_type": "stream",
     "text": [
      "C:\\Users\\yelzha\\AppData\\Local\\Programs\\Python\\Python311\\Lib\\site-packages\\tqdm\\auto.py:21: TqdmWarning: IProgress not found. Please update jupyter and ipywidgets. See https://ipywidgets.readthedocs.io/en/stable/user_install.html\n",
      "  from .autonotebook import tqdm as notebook_tqdm\n"
     ]
    },
    {
     "name": "stdout",
     "output_type": "stream",
     "text": [
      "WARNING:tensorflow:From C:\\Users\\yelzha\\AppData\\Local\\Programs\\Python\\Python311\\Lib\\site-packages\\keras\\src\\losses.py:2976: The name tf.losses.sparse_softmax_cross_entropy is deprecated. Please use tf.compat.v1.losses.sparse_softmax_cross_entropy instead.\n",
      "\n"
     ]
    },
    {
     "name": "stderr",
     "output_type": "stream",
     "text": [
      "Loading checkpoint shards: 100%|█████████████████████████████████████████████████████████| 2/2 [00:00<00:00,  3.08it/s]\n",
      "Using a slow image processor as `use_fast` is unset and a slow processor was saved with this model. `use_fast=True` will be the default behavior in v4.52, even if the model was saved with a slow processor. This will result in minor differences in outputs. You'll still be able to use a slow processor with `use_fast=False`.\n",
      "You have video processor config saved in `preprocessor.json` file which is deprecated. Video processor configs should be saved in their own `video_preprocessor.json` file. You can rename the file or load and save the processor back which renames it automatically. Loading from `preprocessor.json` will be removed in v5.0.\n"
     ]
    }
   ],
   "source": [
    "# Evaluation Script for Qwen2.5-VL-7B-Instruct on CORD-v2 Test Set using qwen_vl_utils\n",
    "\n",
    "import torch\n",
    "import json\n",
    "from PIL import Image\n",
    "from datasets import load_dataset\n",
    "from transformers import AutoProcessor\n",
    "from qwen_vl_utils import process_vision_info\n",
    "from tqdm import tqdm\n",
    "from transformers import Qwen2_5_VLForConditionalGeneration\n",
    "\n",
    "# Load model and processor\n",
    "model_id = \"Qwen/Qwen2.5-VL-3B-Instruct\"\n",
    "model = Qwen2_5_VLForConditionalGeneration.from_pretrained(\n",
    "    model_id, torch_dtype=\"auto\", device_map=\"auto\"\n",
    ")\n",
    "processor = AutoProcessor.from_pretrained(model_id)\n",
    "\n",
    "# Load dataset\n",
    "cord_dataset = load_dataset(\"naver-clova-ix/cord-v2\")\n",
    "test_set = cord_dataset[\"test\"]\n",
    "\n",
    "def clean_output(text):\n",
    "    return text.strip()\n",
    "\n",
    "def extract_fields(record_raw):\n",
    "    record_json = json.loads(record_raw)\n",
    "    json_data = record_json['gt_parse']\n",
    "    fields = {}\n",
    "    for key in [\"menu\", \"sub_total\", \"total\"]:\n",
    "        if key in json_data:\n",
    "            fields[key] = json_data[key]\n",
    "    return fields"
   ]
  },
  {
   "cell_type": "code",
   "execution_count": null,
   "id": "c7daf7f0",
   "metadata": {},
   "outputs": [
    {
     "name": "stdout",
     "output_type": "stream",
     "text": [
      "Starting evaluation...\n"
     ]
    },
    {
     "name": "stderr",
     "output_type": "stream",
     "text": [
      "Evaluating:  50%|███████████████████████████████████▌                                   | 1/2 [10:13<10:13, 613.17s/it]"
     ]
    }
   ],
   "source": [
    "predictions, ground_truths = [], []\n",
    "\n",
    "instruction = (\n",
    "    \"Extract and return all structured fields from this receipt image in the following JSON format. \"\n",
    "    \"Make sure to follow the correct hierarchical structure and include all known keys from the dataset:\\n\"\n",
    "    \"{\\n\"\n",
    "    \"  \\\"menu\\\": {\\n\"\n",
    "    \"    \\\"nm\\\": string,\\n\"\n",
    "    \"    \\\"num\\\": string,\\n\"\n",
    "    \"    \\\"cnt\\\": string,\\n\"\n",
    "    \"    \\\"price\\\": string,\\n\"\n",
    "    \"    \\\"itemsubtotal\\\": string,\\n\"\n",
    "    \"    \\\"sub_nm\\\": optional string,\\n\"\n",
    "    \"    \\\"sub_cnt\\\": optional string,\\n\"\n",
    "    \"    \\\"sub_price\\\": optional string\\n\"\n",
    "    \"  },\\n\"\n",
    "    \"  \\\"sub_total\\\": {\\n\"\n",
    "    \"    \\\"subtotal_price\\\": string,\\n\"\n",
    "    \"    \\\"discount_price\\\": string,\\n\"\n",
    "    \"    \\\"tax_price\\\": string\\n\"\n",
    "    \"  },\\n\"\n",
    "    \"  \\\"total\\\": {\\n\"\n",
    "    \"    \\\"total_price\\\": string,\\n\"\n",
    "    \"    \\\"creditcardprice\\\": string,\\n\"\n",
    "    \"    \\\"menuqty_cnt\\\": string\\n\"\n",
    "    \"  }\\n\"\n",
    "    \"}\\n\"\n",
    "    \"Output only the JSON. Do not include explanations or other text.\"\n",
    ")\n",
    "\n",
    "print(\"Starting evaluation...\")\n",
    "\n",
    "for sample in tqdm([test_set[i] for i in range(2)], desc=\"Evaluating\"):\n",
    "    image = sample[\"image\"]\n",
    "    label_json = sample[\"ground_truth\"]\n",
    "\n",
    "    messages = [\n",
    "        {\n",
    "            \"role\": \"user\",\n",
    "            \"content\": [\n",
    "                {\"type\": \"image\", \"image\": image},\n",
    "                {\"type\": \"text\", \"text\": instruction}\n",
    "            ]\n",
    "        }\n",
    "    ]\n",
    "\n",
    "    text_prompt = processor.apply_chat_template(messages, tokenize=False, add_generation_prompt=True)\n",
    "    image_inputs, video_inputs = process_vision_info(messages)\n",
    "\n",
    "    inputs = processor(\n",
    "        text=[text_prompt],\n",
    "        images=image_inputs,\n",
    "        videos=video_inputs,\n",
    "        padding=True,\n",
    "        return_tensors=\"pt\"\n",
    "    ).to(model.device)\n",
    "\n",
    "    with torch.no_grad():\n",
    "        generated_ids = model.generate(**inputs, max_new_tokens=1024)\n",
    "\n",
    "    generated_ids_trimmed = [\n",
    "        out_ids[len(in_ids):] for in_ids, out_ids in zip(inputs.input_ids, generated_ids)\n",
    "    ]\n",
    "    pred_result = processor.batch_decode(\n",
    "        generated_ids_trimmed, skip_special_tokens=True, clean_up_tokenization_spaces=False\n",
    "    )[0]\n",
    "\n",
    "    pred_result = clean_output(pred_result)\n",
    "\n",
    "    try:\n",
    "        pred_fields = extract_fields(json.dumps({\"gt_parse\": json.loads(pred_result)}))\n",
    "    except:\n",
    "        pred_fields = {}\n",
    "\n",
    "    true_fields = extract_fields(label_json)\n",
    "\n",
    "    for field in true_fields:\n",
    "        predictions.append(pred_fields.get(field, \"\"))\n",
    "        ground_truths.append(true_fields[field])\n",
    "\n",
    "# Basic evaluation using exact match comparison\n",
    "correct = sum([p == t for p, t in zip(predictions, ground_truths)])\n",
    "total = len(predictions)\n",
    "accuracy = correct / total if total else 0\n",
    "\n",
    "print(f\"Evaluation Results:\")\n",
    "print(f\"Total Samples Evaluated: {total}\")\n",
    "print(f\"Exact Match Accuracy: {accuracy:.4f}\")\n"
   ]
  },
  {
   "cell_type": "code",
   "execution_count": null,
   "id": "003e9f08",
   "metadata": {},
   "outputs": [],
   "source": []
  }
 ],
 "metadata": {
  "kernelspec": {
   "display_name": "Python 3.11",
   "language": "python",
   "name": "python3.11"
  },
  "language_info": {
   "codemirror_mode": {
    "name": "ipython",
    "version": 3
   },
   "file_extension": ".py",
   "mimetype": "text/x-python",
   "name": "python",
   "nbconvert_exporter": "python",
   "pygments_lexer": "ipython3",
   "version": "3.11.6"
  }
 },
 "nbformat": 4,
 "nbformat_minor": 5
}
