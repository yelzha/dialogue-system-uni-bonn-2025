{
 "cells": [
  {
   "cell_type": "code",
   "id": "initial_id",
   "metadata": {
    "collapsed": true,
    "ExecuteTime": {
     "end_time": "2025-07-29T17:37:08.617522Z",
     "start_time": "2025-07-29T17:37:08.189447Z"
    }
   },
   "source": [
    "from datasets import load_from_disk\n",
    "ds = load_from_disk(\"cord_v2_VLM\") # replace VLM with one of (gemma, llava, qwen2.5-vl-7b)\n",
    "ds\n"
   ],
   "outputs": [
    {
     "data": {
      "text/plain": [
       "Dataset({\n",
       "    features: ['id', 'ground_truth', 'predicted', 'raw', 'accuracy', 'correct', 'total'],\n",
       "    num_rows: 100\n",
       "})"
      ]
     },
     "execution_count": 1,
     "metadata": {},
     "output_type": "execute_result"
    }
   ],
   "execution_count": 1
  },
  {
   "metadata": {
    "ExecuteTime": {
     "end_time": "2025-07-29T17:37:11.044375Z",
     "start_time": "2025-07-29T17:37:11.041191Z"
    }
   },
   "cell_type": "code",
   "source": [
    "groundTruth = ds['ground_truth']\n",
    "predicted = ds['predicted']"
   ],
   "id": "77e074c3a0c75a04",
   "outputs": [],
   "execution_count": 2
  },
  {
   "metadata": {},
   "cell_type": "code",
   "outputs": [],
   "execution_count": null,
   "source": [
    "import pandas as pd\n",
    "import json\n",
    "\n",
    "\n",
    "def flatten_dict(d, parent_key='', sep='.'):\n",
    "    items = []\n",
    "    for k, v in d.items():\n",
    "        new_key = f\"{parent_key}{sep}{k}\" if parent_key else k\n",
    "        if isinstance(v, dict):\n",
    "            items.extend(flatten_dict(v, new_key, sep=sep).items())\n",
    "        elif isinstance(v, list):\n",
    "            for i, item in enumerate(v):\n",
    "                if isinstance(item, dict):\n",
    "                    items.extend(flatten_dict(item, f\"{new_key}[{i}]\", sep=sep).items())\n",
    "                else:\n",
    "                    items.append((f\"{new_key}[{i}]\", item))\n",
    "        else:\n",
    "            items.append((new_key, v))\n",
    "    return dict(items)\n",
    "\n",
    "def normalize(val):\n",
    "    if val is None:\n",
    "        return \"\"\n",
    "    if isinstance(val, str):\n",
    "        val = val.strip().replace(\",\", \"\").replace(\" \", \"\")\n",
    "        try:\n",
    "            return float(val)\n",
    "        except:\n",
    "            return val.lower()\n",
    "    return val\n",
    "\n",
    "\n",
    "all_results = []\n",
    "\n",
    "for i, (gt_json, pred_json) in enumerate(zip(groundTruth, predicted)):\n",
    "    gt = flatten_dict(json.loads(gt_json))\n",
    "    pred = flatten_dict(json.loads(pred_json))\n",
    "\n",
    "    keys = set(gt.keys())\n",
    "\n",
    "    for key in keys:\n",
    "        gt_val = normalize(gt.get(key))\n",
    "        pred_val = normalize(pred.get(key, None))  # missing key → None\n",
    "        match = gt_val == pred_val\n",
    "        all_results.append({\n",
    "            \"entry\": i,\n",
    "            \"key\": key,\n",
    "            \"ground_truth\": gt_val,\n",
    "            \"predicted\": pred_val,\n",
    "            \"match\": match\n",
    "        })\n",
    "df = pd.DataFrame(all_results)\n",
    "df.to_csv(\"match_VLM.csv\", index=False) # replace VLM with one of (gemma, llava, qwen2.5-vl-7b)\n",
    "\n"
   ],
   "id": "ff35d7c4f3c8e84e"
  }
 ],
 "metadata": {
  "kernelspec": {
   "display_name": "Python 3",
   "language": "python",
   "name": "python3"
  },
  "language_info": {
   "codemirror_mode": {
    "name": "ipython",
    "version": 2
   },
   "file_extension": ".py",
   "mimetype": "text/x-python",
   "name": "python",
   "nbconvert_exporter": "python",
   "pygments_lexer": "ipython2",
   "version": "2.7.6"
  }
 },
 "nbformat": 4,
 "nbformat_minor": 5
}
